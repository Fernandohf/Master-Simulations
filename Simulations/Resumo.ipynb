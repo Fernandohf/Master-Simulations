{
 "cells": [
  {
   "cell_type": "markdown",
   "metadata": {},
   "source": [
    "# Simulações Modelos\n",
    "## 1. Modelo Mínimo"
   ]
  },
  {
   "cell_type": "code",
   "execution_count": null,
   "metadata": {},
   "outputs": [],
   "source": [
    "import matplotlib.pyplot as plt\n",
    "from scipy.integrate import solve_ivp\n",
    "import numpy as np\n",
    "\n",
    "# Função utilizada pelo solver\n",
    "def minimal_model(t, state):\n",
    "    G, X, I_p = state\n",
    "    # Parâmetros\n",
    "    p_1 = 2.96e2 # min^-1 \n",
    "    p_2 = 1.86e2 # min^-1\n",
    "    p_3 = 6.51e6 # ml/min^2 uU\n",
    "    p_4 = 5.36e3 # uU/mg min^2\n",
    "    p_5 = 0.23   # min^-1\n",
    "    G_0 = 298    # mg/dl\n",
    "    I_b = 17     # uU/ml\n",
    "    G_b = 94   # mg/ ml\n",
    "    # Lista com o sistema de equações diferenciais\n",
    "    derivs = [-(p_1 + X) * G - p_1 * G_b,\n",
    "              -p_2 * X + p_3 * (I_p - I_b),\n",
    "              p_4 * (max(G - G_0, 0) * t) - p_5 * (I_p - I_b)]\n",
    "    return derivs\n",
    "# Calcula a Dinâmica\n",
    "tf = np.arange(0, 100, 0.1)\n",
    "sol = solve_ivp(minimal_model, (0, 100),\n",
    "                             np.array([298, 0, 333]))\n",
    "G_p = sol.y[0]\n",
    "I_p = sol.y[2]\n",
    "t = sol.t\n",
    "# Resultados da Simulação\n",
    "fig = plt.figure()\n",
    "G_axes = fig.add_subplot(211)\n",
    "G_axes.set_xlim(0, 100)\n",
    "G_axes.set_ylim(60, 300)\n",
    "G_axes.plot(G_p, t)\n",
    "I_axes = fig.add_subplot(212)\n",
    "I_axes.set_xlim(0, 100)\n",
    "I_axes.set_ylim(0, 340)\n",
    "I_axes.plot(I_p, t)\n",
    "plt.show()"
   ]
  },
  {
   "cell_type": "code",
   "execution_count": null,
   "metadata": {},
   "outputs": [],
   "source": []
  }
 ],
 "metadata": {
  "kernelspec": {
   "display_name": "Python 3",
   "language": "python",
   "name": "python3"
  },
  "language_info": {
   "codemirror_mode": {
    "name": "ipython",
    "version": 3
   },
   "file_extension": ".py",
   "mimetype": "text/x-python",
   "name": "python",
   "nbconvert_exporter": "python",
   "pygments_lexer": "ipython3",
   "version": "3.6.5"
  }
 },
 "nbformat": 4,
 "nbformat_minor": 2
}
